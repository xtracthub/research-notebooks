{
 "cells": [
  {
   "cell_type": "markdown",
   "metadata": {},
   "source": [
    "# Using Xtract to extract MaterialsIO metadata from MDF files"
   ]
  },
  {
   "cell_type": "markdown",
   "metadata": {},
   "source": [
    "This Xtract-MDF demo illustrates how to crawl, extract metadata from, and store metadata for any Globus HTTPS-accessible repository. \n",
    "\n",
    "Moreover, users can execute metadata extraction workflows on any machine running a funcX endpoint, whether it's ANL's Cooley, a laptop, or the cloud (for this demo, we use an EC2 instance). "
   ]
  },
  {
   "cell_type": "code",
   "execution_count": 7,
   "metadata": {},
   "outputs": [],
   "source": [
    "from fair_research_login import NativeClient\n",
    "import requests\n",
    "import pickle\n",
    "import json\n",
    "import mdf_toolbox\n",
    "\n",
    "# Globus endpoint and directory path to where the data live (default: MDF data repo on petrel#researchdatalanalytics).\n",
    "# source_ep_id = \"e38ee745-6d04-11e5-ba46-22000b92c6ec\"  # where the data are\n",
    "# source_ep_path = \"/MDF/mdf_connect/prod/data/_test_mayer_situ_observation_g20o995_v1.1\"\n",
    "# source_ep_path = \"/MDF/mdf_connect/prod/data/klh_1_v1/exposure1_jpg.jpg\"\n",
    "# source_ep_path = \"/MDF/mdf_connect/prod/data/h2o_13_v1-1/split_xyz_files/watergrid_60_HOH_180__0.7_rOH_1.8_vario_PBE0_AV5Z_delta_PS_data\"\n",
    "# source_ep_path = \"/MDF/mdf_connect/prod/data/khazana_vasp_v2/OUTCARS\"\n",
    "source_ep_path_1 = \"/MDF/mdf_connect/prod/data/_test_einstein_9vpflvd_v1.1\"\n",
    "# source_ep_path = \"/MDF/mdf_connect/prod/data\"\n",
    "\n",
    "# source_ep_path_1 = \"/cdiac/\"\n",
    "\n",
    "# NCSA data.\n",
    "# source_ep_path = \"/mdf_open/charge_ice_prappl_2020_v1.1/ChargeIce/Spectral-data/ChargeIce_TypeI\"\n",
    "# source_ep_path = \"/mdf_open/tsopanidis_wha_amaps_v1.1/Activation Maps/Activation Maps for the WHA Dataset\"\n",
    "# source_ep_path = \"/mdf_open/kearns_biofilm_rupture_location_v1.1/Biofilm Images/Paper Images/Isofluence Images (79.4)/THY+75mM AA\"\n",
    "#source_ep_path = \"/thurston_selfassembled_peptide_spectra_v1.1/DFT/MoleculeConfigs/di_30_-10.xyz/\"\n",
    "# source_ep_path_1 = \"/MDF/mdf_connect/prod/data\"\n",
    "\n",
    "# IPDPS paths.\n",
    "# source_ep_path = \"/1_Tyler_Test/ipdps_data/mdf_10MB\"\n",
    "# source_ep_path = \"/1_Tyler_Test/ipdps_data/mdf_100MB\"\n",
    "\n",
    "source_ep_id = \"e38ee745-6d04-11e5-ba46-22000b92c6ec\"  # MDF at Petrel \n",
    "# source_ep_id = \"45a53408-c797-11e6-9c33-22000a1e3b52\"  # CDIAC at Petrel\n",
    "# source_ep_id = \"82f1b5c6-6e9b-11e5-ba47-22000b92c6ec\"  # MDF at NCSA?\n",
    "dest_ep_id = \"af7bda53-6d04-11e5-ba46-22000b92c6ec\"  # where they will be extracted\n",
    "\n",
    "# Globus endpoint whatand file path at which we want to store metadata documents\n",
    "mdata_ep_id = \"5113667a-10b4-11ea-8a67-0e35e66293c2\"  \n",
    "mdata_path = None\n",
    "\n",
    "data_prefetch_path = \"/project2/chard/skluzacek/data_to_process\"\n",
    "\n",
    "# FuncX endpoint at which we want the metadata extraction to occur. Does NOT have to be same endpoint as the data.\n",
    "#. funcx_ep_id = \"6045fcfb-c3ef-48db-9b32-5b50fda15144\"  # Path to funcX running on JetStream. \n",
    "# funcx_ep_id = \"82ceed9f-dce1-4dd1-9c45-6768cf202be8\"  # River k8s cluster. \n",
    "funcx_ep_id = \"7faf21be-4667-447c-a96d-4dbe14875cf1\"\n",
    "\n",
    "# base_url = \"https://data.materialsdatafacility.org\"  # MDF@NCSA\n",
    "# base_url = \"https://e38ee745-6d04-11e5-ba46-22000b92c6ec.e.globus.org\"  # MDF@ANL\n",
    "base_url = \"\"  # Use this for the prefetch case! \n",
    "\n",
    "# URLs where the Xtract service (AWS Elastic Beanstalk) AND the metadata poller service (AWS EC2) run\n",
    "# eb_url = \"http://xtractv1-env-2.p6rys5qcuj.us-east-1.elasticbeanstalk.com\"\n",
    "# eb_url = \"http://xtract-crawler-4.eba-ghixpmdf.us-east-1.elasticbeanstalk.com/\"\n",
    "eb_url = \"http://127.0.0.1:5000\"\n",
    "\n",
    "# Grouping strategy we want to use for grouping. This will, by default, use all .group() functions from matio parsers.\n",
    "grouper = \"matio\"\n"
   ]
  },
  {
   "cell_type": "markdown",
   "metadata": {},
   "source": [
    "## Step 1: Login \n",
    "\n",
    "Here we request tokens from Globus Auth coming from three separate scopes. When fresh tokens are needed, tthe NativeClient will provide a link at which the user can authenticate with their Globus ID, providing a box at which to paste the Authentication Code. The scopes are as follows: \n",
    "\n",
    "* **petrel_https_server**: needed to access the MDF data on Petrel. Will need to change if processing data off-Petrel. \n",
    "* **transfer_token**: needed to crawl the Globus endpoint and transfer metadata to its final location. \n",
    "* **funcx_token**: needed to orchestrate the metadata exraction at the given funcX endpoint.\n",
    "\n",
    "Additionally we package the tokens as *headers* that we can easily ship with later requests. "
   ]
  },
  {
   "cell_type": "code",
   "execution_count": 8,
   "metadata": {},
   "outputs": [
    {
     "name": "stdout",
     "output_type": "stream",
     "text": [
      "{'search': <globus_sdk.search.client.SearchClient object at 0x7ffbb1444c18>, 'data_mdf': <globus_sdk.authorizers.refresh_token.RefreshTokenAuthorizer object at 0x7ffbb1468f28>, 'petrel': <globus_sdk.authorizers.refresh_token.RefreshTokenAuthorizer object at 0x7ffbb14682e8>, 'dlhub': <globus_sdk.authorizers.refresh_token.RefreshTokenAuthorizer object at 0x7ffbb1468080>, 'transfer': <globus_sdk.transfer.client.TransferClient object at 0x7ffbb14689b0>, 'https://auth.globus.org/scopes/facd7ccc-c5f4-42aa-916b-a0e270e2c2a9/all': <globus_sdk.authorizers.refresh_token.RefreshTokenAuthorizer object at 0x7ffbb14685f8>}\n"
     ]
    }
   ],
   "source": [
    "# client = NativeClient(client_id='7414f0b4-7d05-4bb6-bb00-076fa3f17cf5')\n",
    "# tokens = client.login(\n",
    "#     requested_scopes=['https://auth.globus.org/scopes/56ceac29-e98a-440a-a594-b41e7a084b62/all', \n",
    "#                       'urn:globus:auth:scope:transfer.api.globus.org:all',\n",
    "#                       \"https://auth.globus.org/scopes/facd7ccc-c5f4-42aa-916b-a0e270e2c2a9/all\"],# , \n",
    "#                      # 'email'],# , 'openid'],\n",
    "#     no_local_server=True,\n",
    "#     no_browser=True, force=True)\n",
    "\n",
    "# auth_token = tokens[\"petrel_https_server\"]['access_token']\n",
    "# transfer_token = tokens['transfer.api.globus.org']['access_token']\n",
    "# funcx_token = tokens['funcx_service']['access_token']\n",
    "\n",
    "auths = mdf_toolbox.login(\n",
    "    services=[\n",
    "        \"data_mdf\",\n",
    "        \"search\",\n",
    "        \"petrel\",\n",
    "        \"transfer\",\n",
    "        \"dlhub\",\n",
    "        \"https://auth.globus.org/scopes/facd7ccc-c5f4-42aa-916b-a0e270e2c2a9/all\",\n",
    "    ],\n",
    "    app_name=\"Foundry\",\n",
    "    make_clients=True,\n",
    "    no_browser=False,\n",
    "    no_local_server=False,\n",
    ")\n",
    "\n",
    "print(auths)\n",
    "fx_scope = 'https://auth.globus.org/scopes/facd7ccc-c5f4-42aa-916b-a0e270e2c2a9/all'\n",
    "headers = {'Authorization': f\"Bearer {auths['petrel']}\", 'Transfer': auths['transfer'], 'FuncX': auths[fx_scope], 'Petrel': auths['petrel']}\n",
    "# print(f\"Headers: {headers}\")"
   ]
  },
  {
   "cell_type": "markdown",
   "metadata": {},
   "source": [
    "## Step 2: Crawl\n",
    "Crawling, behind the scenes, will scan a Globus directory breadth-first (using globus_ls), first extracting physical metadata such as path, size, and extension. Next, since the *grouper* we selected is 'matio', the crawler will execute matio's `get_groups_by_postfix()` function on all file names in a directory in order to return groups for each of matio's parsers (besides *generic* and *noop*). \n",
    "\n",
    "The crawl will run as a non-blocking thread, and return a crawl_id that will be used extensively to track progress of our metadata extraction workflow."
   ]
  },
  {
   "cell_type": "code",
   "execution_count": 9,
   "metadata": {
    "scrolled": true
   },
   "outputs": [
    {
     "name": "stdout",
     "output_type": "stream",
     "text": [
      "Crawl URL is : http://127.0.0.1:5000/crawl\n",
      "{'Transfer': 'AgE8aqyKMjQzgXqvXnyYvnQkjE3ob2qQ61YxY5nrkmVrnJD5MySwCBQ3xNWwEd5PBB871oG4PK3JQJsyDqwqKTBQPK', 'Authorization': 'AgqGl5knjo6M2XmJy4gdK3m3qvDWBwJoNNJB5OVxnzXrnlKor2cqCpMaaJW9b0wrNrXa6p85bPqdyaTPq646ds6YXG'}\n",
      "b'{\"crawl_id\":\"424a8e10-ed47-4b9b-804b-b2793d894598\"}\\n'\n",
      "Crawl ID: 424a8e10-ed47-4b9b-804b-b2793d894598\n"
     ]
    }
   ],
   "source": [
    "# TODO: Adjust this to the Google Drive model!!!\n",
    "\n",
    "crawl_url = f'{eb_url}/crawl'\n",
    "print(f\"Crawl URL is : {crawl_url}\")\n",
    "\n",
    "first_ep_dict = {\n",
    "    'repo_type': 'GLOBUS',\n",
    "    'eid': source_ep_id,\n",
    "    'dir_paths': [source_ep_path_1],# , source_ep_path_2],\n",
    "    'grouper': grouper, \n",
    "    # 'prefetch_list':\n",
    "    #     [{'dest_ep_id': dest_ep_id, 'path': '/project2/chard/skluzacek/data_to_process'}]\n",
    "}\n",
    "\n",
    "tokens = {'Transfer': auths['transfer'].authorizer.access_token, 'Authorization': auths[fx_scope].access_token}\n",
    "print(tokens)\n",
    "\n",
    "crawl_req = requests.post(f'{eb_url}/crawl', json={'endpoints': [first_ep_dict], 'tokens': tokens})\n",
    "print(crawl_req.content)\n",
    "crawl_id = json.loads(crawl_req.content)['crawl_id']\n",
    "print(f\"Crawl ID: {crawl_id}\")\n"
   ]
  },
  {
   "cell_type": "markdown",
   "metadata": {},
   "source": [
    "We can get crawl status, seeing how many groups have been identified in the crawl. \n",
    "\n",
    "Note that measuring the total files yet to crawl is impossible, as the BFS may not have discovered all files yet, and Globus does not yet have a file counting feature for all directories and subdirectories. I.e., we know when we're done, but we don't know until we get there. "
   ]
  },
  {
   "cell_type": "code",
   "execution_count": 10,
   "metadata": {},
   "outputs": [
    {
     "name": "stdout",
     "output_type": "stream",
     "text": [
      "<Response [200]>\n",
      "Crawl Status: {'bytes_crawled': 207123, 'crawl_id': '424a8e10-ed47-4b9b-804b-b2793d894598', 'crawl_status': 'complete', 'files_crawled': 3, 'groups_crawled': 24}\n"
     ]
    }
   ],
   "source": [
    "# crawl_id = '506c72c4-36dc-461f-8c69-4ed591f75b0a'\n",
    "# TODO: update the crawl status to query the DB (might require occasionally updating db)\n",
    "crawl_status = requests.get(f'{eb_url}/get_crawl_status', json={'crawl_id': crawl_id})\n",
    "print(crawl_status)\n",
    "crawl_content = json.loads(crawl_status.content)\n",
    "print(f\"Crawl Status: {crawl_content}\")"
   ]
  },
  {
   "cell_type": "code",
   "execution_count": 31,
   "metadata": {},
   "outputs": [],
   "source": [
    "# crawl_id\n",
    "# fetch_mdata = requests.get(f'{eb_url}/fetch_crawl_mdata', json={'crawl_id': crawl_id, 'n': 2})\n",
    "# print(fetch_mdata.content)\n",
    "# # fetch_content = json.loads(fetch_mdata.content)\n",
    "# print(f\"Crawl Status: {crawl_content}\")"
   ]
  },
  {
   "cell_type": "markdown",
   "metadata": {},
   "source": [
    "## Step 3: Xtract\n",
    "\n",
    "Next we launch a non-blocking metadata extraction workflow that will automatically find all groups generated from our crawl_id, ship parsers to our endpoint as funcX, transfer the file (if necessary), and extract/send back metadata to the central Xtract service. This will just run constantly until the crawl is done and there are crawled groups left to extract. "
   ]
  },
  {
   "cell_type": "code",
   "execution_count": 11,
   "metadata": {},
   "outputs": [
    {
     "ename": "TypeError",
     "evalue": "Object of type 'TransferClient' is not JSON serializable",
     "output_type": "error",
     "traceback": [
      "\u001b[0;31m---------------------------------------------------------------------------\u001b[0m",
      "\u001b[0;31mTypeError\u001b[0m                                 Traceback (most recent call last)",
      "\u001b[0;32m<ipython-input-11-55ecf530954e>\u001b[0m in \u001b[0;36m<module>\u001b[0;34m\u001b[0m\n\u001b[1;32m      2\u001b[0m xtract = requests.post(f'{eb_url}/extract', json={'crawl_id': crawl_id,\n\u001b[1;32m      3\u001b[0m                                                   \u001b[0;34m'repo_type'\u001b[0m\u001b[0;34m:\u001b[0m \u001b[0;34m\"HTTPS\"\u001b[0m\u001b[0;34m,\u001b[0m\u001b[0;34m\u001b[0m\u001b[0;34m\u001b[0m\u001b[0m\n\u001b[0;32m----> 4\u001b[0;31m                                                   \u001b[0;34m'headers'\u001b[0m\u001b[0;34m:\u001b[0m \u001b[0mjson\u001b[0m\u001b[0;34m.\u001b[0m\u001b[0mdumps\u001b[0m\u001b[0;34m(\u001b[0m\u001b[0mheaders\u001b[0m\u001b[0;34m)\u001b[0m\u001b[0;34m,\u001b[0m\u001b[0;34m\u001b[0m\u001b[0;34m\u001b[0m\u001b[0m\n\u001b[0m\u001b[1;32m      5\u001b[0m                                                   \u001b[0;34m'funcx_eid'\u001b[0m\u001b[0;34m:\u001b[0m \u001b[0mfuncx_ep_id\u001b[0m\u001b[0;34m,\u001b[0m\u001b[0;34m\u001b[0m\u001b[0;34m\u001b[0m\u001b[0m\n\u001b[1;32m      6\u001b[0m                                                   \u001b[0;34m'source_eid'\u001b[0m\u001b[0;34m:\u001b[0m \u001b[0msource_ep_id\u001b[0m\u001b[0;34m,\u001b[0m\u001b[0;34m\u001b[0m\u001b[0;34m\u001b[0m\u001b[0m\n",
      "\u001b[0;32m~/.conda/envs/plz/lib/python3.6/json/__init__.py\u001b[0m in \u001b[0;36mdumps\u001b[0;34m(obj, skipkeys, ensure_ascii, check_circular, allow_nan, cls, indent, separators, default, sort_keys, **kw)\u001b[0m\n\u001b[1;32m    229\u001b[0m         \u001b[0mcls\u001b[0m \u001b[0;32mis\u001b[0m \u001b[0;32mNone\u001b[0m \u001b[0;32mand\u001b[0m \u001b[0mindent\u001b[0m \u001b[0;32mis\u001b[0m \u001b[0;32mNone\u001b[0m \u001b[0;32mand\u001b[0m \u001b[0mseparators\u001b[0m \u001b[0;32mis\u001b[0m \u001b[0;32mNone\u001b[0m \u001b[0;32mand\u001b[0m\u001b[0;34m\u001b[0m\u001b[0;34m\u001b[0m\u001b[0m\n\u001b[1;32m    230\u001b[0m         default is None and not sort_keys and not kw):\n\u001b[0;32m--> 231\u001b[0;31m         \u001b[0;32mreturn\u001b[0m \u001b[0m_default_encoder\u001b[0m\u001b[0;34m.\u001b[0m\u001b[0mencode\u001b[0m\u001b[0;34m(\u001b[0m\u001b[0mobj\u001b[0m\u001b[0;34m)\u001b[0m\u001b[0;34m\u001b[0m\u001b[0;34m\u001b[0m\u001b[0m\n\u001b[0m\u001b[1;32m    232\u001b[0m     \u001b[0;32mif\u001b[0m \u001b[0mcls\u001b[0m \u001b[0;32mis\u001b[0m \u001b[0;32mNone\u001b[0m\u001b[0;34m:\u001b[0m\u001b[0;34m\u001b[0m\u001b[0;34m\u001b[0m\u001b[0m\n\u001b[1;32m    233\u001b[0m         \u001b[0mcls\u001b[0m \u001b[0;34m=\u001b[0m \u001b[0mJSONEncoder\u001b[0m\u001b[0;34m\u001b[0m\u001b[0;34m\u001b[0m\u001b[0m\n",
      "\u001b[0;32m~/.conda/envs/plz/lib/python3.6/json/encoder.py\u001b[0m in \u001b[0;36mencode\u001b[0;34m(self, o)\u001b[0m\n\u001b[1;32m    197\u001b[0m         \u001b[0;31m# exceptions aren't as detailed.  The list call should be roughly\u001b[0m\u001b[0;34m\u001b[0m\u001b[0;34m\u001b[0m\u001b[0;34m\u001b[0m\u001b[0m\n\u001b[1;32m    198\u001b[0m         \u001b[0;31m# equivalent to the PySequence_Fast that ''.join() would do.\u001b[0m\u001b[0;34m\u001b[0m\u001b[0;34m\u001b[0m\u001b[0;34m\u001b[0m\u001b[0m\n\u001b[0;32m--> 199\u001b[0;31m         \u001b[0mchunks\u001b[0m \u001b[0;34m=\u001b[0m \u001b[0mself\u001b[0m\u001b[0;34m.\u001b[0m\u001b[0miterencode\u001b[0m\u001b[0;34m(\u001b[0m\u001b[0mo\u001b[0m\u001b[0;34m,\u001b[0m \u001b[0m_one_shot\u001b[0m\u001b[0;34m=\u001b[0m\u001b[0;32mTrue\u001b[0m\u001b[0;34m)\u001b[0m\u001b[0;34m\u001b[0m\u001b[0;34m\u001b[0m\u001b[0m\n\u001b[0m\u001b[1;32m    200\u001b[0m         \u001b[0;32mif\u001b[0m \u001b[0;32mnot\u001b[0m \u001b[0misinstance\u001b[0m\u001b[0;34m(\u001b[0m\u001b[0mchunks\u001b[0m\u001b[0;34m,\u001b[0m \u001b[0;34m(\u001b[0m\u001b[0mlist\u001b[0m\u001b[0;34m,\u001b[0m \u001b[0mtuple\u001b[0m\u001b[0;34m)\u001b[0m\u001b[0;34m)\u001b[0m\u001b[0;34m:\u001b[0m\u001b[0;34m\u001b[0m\u001b[0;34m\u001b[0m\u001b[0m\n\u001b[1;32m    201\u001b[0m             \u001b[0mchunks\u001b[0m \u001b[0;34m=\u001b[0m \u001b[0mlist\u001b[0m\u001b[0;34m(\u001b[0m\u001b[0mchunks\u001b[0m\u001b[0;34m)\u001b[0m\u001b[0;34m\u001b[0m\u001b[0;34m\u001b[0m\u001b[0m\n",
      "\u001b[0;32m~/.conda/envs/plz/lib/python3.6/json/encoder.py\u001b[0m in \u001b[0;36miterencode\u001b[0;34m(self, o, _one_shot)\u001b[0m\n\u001b[1;32m    255\u001b[0m                 \u001b[0mself\u001b[0m\u001b[0;34m.\u001b[0m\u001b[0mkey_separator\u001b[0m\u001b[0;34m,\u001b[0m \u001b[0mself\u001b[0m\u001b[0;34m.\u001b[0m\u001b[0mitem_separator\u001b[0m\u001b[0;34m,\u001b[0m \u001b[0mself\u001b[0m\u001b[0;34m.\u001b[0m\u001b[0msort_keys\u001b[0m\u001b[0;34m,\u001b[0m\u001b[0;34m\u001b[0m\u001b[0;34m\u001b[0m\u001b[0m\n\u001b[1;32m    256\u001b[0m                 self.skipkeys, _one_shot)\n\u001b[0;32m--> 257\u001b[0;31m         \u001b[0;32mreturn\u001b[0m \u001b[0m_iterencode\u001b[0m\u001b[0;34m(\u001b[0m\u001b[0mo\u001b[0m\u001b[0;34m,\u001b[0m \u001b[0;36m0\u001b[0m\u001b[0;34m)\u001b[0m\u001b[0;34m\u001b[0m\u001b[0;34m\u001b[0m\u001b[0m\n\u001b[0m\u001b[1;32m    258\u001b[0m \u001b[0;34m\u001b[0m\u001b[0m\n\u001b[1;32m    259\u001b[0m def _make_iterencode(markers, _default, _encoder, _indent, _floatstr,\n",
      "\u001b[0;32m~/.conda/envs/plz/lib/python3.6/json/encoder.py\u001b[0m in \u001b[0;36mdefault\u001b[0;34m(self, o)\u001b[0m\n\u001b[1;32m    178\u001b[0m         \"\"\"\n\u001b[1;32m    179\u001b[0m         raise TypeError(\"Object of type '%s' is not JSON serializable\" %\n\u001b[0;32m--> 180\u001b[0;31m                         o.__class__.__name__)\n\u001b[0m\u001b[1;32m    181\u001b[0m \u001b[0;34m\u001b[0m\u001b[0m\n\u001b[1;32m    182\u001b[0m     \u001b[0;32mdef\u001b[0m \u001b[0mencode\u001b[0m\u001b[0;34m(\u001b[0m\u001b[0mself\u001b[0m\u001b[0;34m,\u001b[0m \u001b[0mo\u001b[0m\u001b[0;34m)\u001b[0m\u001b[0;34m:\u001b[0m\u001b[0;34m\u001b[0m\u001b[0;34m\u001b[0m\u001b[0m\n",
      "\u001b[0;31mTypeError\u001b[0m: Object of type 'TransferClient' is not JSON serializable"
     ]
    }
   ],
   "source": [
    "# crawl_id = \"246d0edf-2641-46f7-9700-3cc5a49c4890\"\n",
    "xtract = requests.post(f'{eb_url}/extract', json={'crawl_id': crawl_id,\n",
    "                                                  'repo_type': \"HTTPS\",\n",
    "                                                  'headers': json.dumps(headers),\n",
    "                                                  'funcx_eid': funcx_ep_id, \n",
    "                                                  'source_eid': source_ep_id,\n",
    "                                                  'dest_eid': dest_ep_id,\n",
    "                                                  'mdata_store_path': mdata_path, \n",
    "                                                  'data_prefetch_path': data_prefetch_path, \n",
    "                                                  'prefetch_remote': True})\n",
    "print(f\"Xtract response (should be 200): {xtract}\")"
   ]
  },
  {
   "cell_type": "code",
   "execution_count": 16,
   "metadata": {},
   "outputs": [
    {
     "name": "stdout",
     "output_type": "stream",
     "text": [
      "Xtract Status: {'crawl_id': 'd74d5cd1-7f77-474b-9ed0-8c56af832070', 'poll_status': 'RUNNING', 'send_status': 'SUCCEEDED'}\n"
     ]
    }
   ],
   "source": [
    "xtract_status = requests.get(f'{eb_url}/get_extract_status', json={'crawl_id': crawl_id})\n",
    "xtract_content = json.loads(xtract_status.content)\n",
    "print(f\"Xtract Status: {xtract_content}\")"
   ]
  },
  {
   "cell_type": "markdown",
   "metadata": {},
   "source": [
    "## Step 4: Access / Flush\n",
    "\n",
    "We might want to flush all new metadata blobs to a separate Globus endpoint. Here we initialize a results poller that creates a file of each metadata attribute to a folder at this path: `<mdata_path>/<crawl_id>/<group_id>`"
   ]
  },
  {
   "cell_type": "code",
   "execution_count": null,
   "metadata": {},
   "outputs": [],
   "source": [
    "import time \n",
    "\n",
    "while True: \n",
    "    poller = requests.post(f'{eb_url}/fetch_crawl_mdata', json={'crawl_id': crawl_id, 'Transfer': transfer_token, 'n': 100})\n",
    "    print(f'Flush Status: {poller}')\n",
    "    time.sleep(5)"
   ]
  },
  {
   "cell_type": "code",
   "execution_count": null,
   "metadata": {},
   "outputs": [],
   "source": []
  }
 ],
 "metadata": {
  "kernelspec": {
   "display_name": "Python (plz)",
   "language": "python",
   "name": "plz"
  },
  "language_info": {
   "codemirror_mode": {
    "name": "ipython",
    "version": 3
   },
   "file_extension": ".py",
   "mimetype": "text/x-python",
   "name": "python",
   "nbconvert_exporter": "python",
   "pygments_lexer": "ipython3",
   "version": "3.6.10"
  }
 },
 "nbformat": 4,
 "nbformat_minor": 2
}
